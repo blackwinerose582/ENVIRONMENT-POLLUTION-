{
 "cells": [
  {
   "cell_type": "code",
   "execution_count": 1,
   "id": "e28383e8-5022-4694-9666-a303b42d24d2",
   "metadata": {},
   "outputs": [
    {
     "name": "stdout",
     "output_type": "stream",
     "text": [
      "\n",
      "✅ Loaded 16 image-mask pairs.\n",
      "\n",
      "✅ Final Data Shapes:\n",
      "X_train: (12, 256, 256, 3) y_train: (12, 256, 256, 1)\n",
      "X_val:   (4, 256, 256, 3) y_val:   (4, 256, 256, 1)\n"
     ]
    }
   ],
   "source": [
    "import os\n",
    "import numpy as np\n",
    "import cv2\n",
    "import tifffile as tiff\n",
    "from sklearn.model_selection import train_test_split\n",
    "\n",
    "# Set image size\n",
    "IMG_SIZE = 256\n",
    "\n",
    "# Define your dataset paths\n",
    "IMAGE_DIR = r\"C:\\Users\\KIIT\\Downloads\\archive (1)\\1_CLOUD_FREE_DATASET\\2_SENTINEL2\\IMAGE_16_GRID\"\n",
    "MASK_DIR  = r\"C:\\Users\\KIIT\\Downloads\\archive (1)\\3_TRAINING_MASKS\\MASK_16_GRID\"\n",
    "\n",
    "def load_images_and_masks(image_dir, mask_dir):\n",
    "    images = []\n",
    "    masks = []\n",
    "\n",
    "    for filename in os.listdir(image_dir):\n",
    "        if not filename.lower().endswith('.tif'):\n",
    "            continue\n",
    "\n",
    "        image_path = os.path.join(image_dir, filename)\n",
    "        mask_path = os.path.join(mask_dir, filename)\n",
    "\n",
    "        if not os.path.exists(mask_path):\n",
    "            print(f\"❌ Mask not found for: {filename}\")\n",
    "            continue\n",
    "\n",
    "        try:\n",
    "            # Load image and mask using tifffile\n",
    "            img = tiff.imread(image_path)\n",
    "            mask = tiff.imread(mask_path)\n",
    "\n",
    "            # Handle grayscale or multi-band image\n",
    "            if img.ndim == 2:\n",
    "                img = np.stack([img]*3, axis=-1)\n",
    "            elif img.shape[-1] > 3:\n",
    "                img = img[..., :3]\n",
    "\n",
    "            # Resize both image and mask\n",
    "            img = cv2.resize(img, (IMG_SIZE, IMG_SIZE))\n",
    "            mask = cv2.resize(mask, (IMG_SIZE, IMG_SIZE))\n",
    "\n",
    "            # Normalize to [0, 1]\n",
    "            img = img / 255.0\n",
    "            mask = (mask / 255.0 > 0.5).astype(np.float32)  # Binary mask\n",
    "\n",
    "            images.append(img)\n",
    "            masks.append(np.expand_dims(mask, axis=-1))  # shape: (H, W, 1)\n",
    "\n",
    "        except Exception as e:\n",
    "            print(f\"⚠ Failed to process {filename}: {e}\")\n",
    "            continue\n",
    "\n",
    "    print(f\"\\n✅ Loaded {len(images)} image-mask pairs.\")\n",
    "    return np.array(images), np.array(masks)\n",
    "\n",
    "# Load data\n",
    "X, y = load_images_and_masks(IMAGE_DIR, MASK_DIR)\n",
    "\n",
    "# Train-validation split\n",
    "X_train, X_val, y_train, y_val = train_test_split(X, y, test_size=0.2, random_state=42)\n",
    "\n",
    "# Confirm data shapes\n",
    "print(\"\\n✅ Final Data Shapes:\")\n",
    "print(\"X_train:\", X_train.shape, \"y_train:\", y_train.shape)\n",
    "print(\"X_val:  \", X_val.shape, \"y_val:  \", y_val.shape)"
   ]
  },
  {
   "cell_type": "code",
   "execution_count": null,
   "id": "ee117eab-c8aa-449e-902f-1bf9bbedfbc4",
   "metadata": {},
   "outputs": [],
   "source": []
  }
 ],
 "metadata": {
  "kernelspec": {
   "display_name": "Python 3 (ipykernel)",
   "language": "python",
   "name": "python3"
  },
  "language_info": {
   "codemirror_mode": {
    "name": "ipython",
    "version": 3
   },
   "file_extension": ".py",
   "mimetype": "text/x-python",
   "name": "python",
   "nbconvert_exporter": "python",
   "pygments_lexer": "ipython3",
   "version": "3.12.7"
  }
 },
 "nbformat": 4,
 "nbformat_minor": 5
}
